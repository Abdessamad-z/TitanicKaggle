{
 "cells": [
  {
   "cell_type": "code",
   "execution_count": 1,
   "outputs": [],
   "source": [
    "import pandas as pd\n",
    "import numpy as np\n",
    "df=pd.read_csv(\"dataset/train.csv\")"
   ],
   "metadata": {
    "collapsed": false,
    "pycharm": {
     "name": "#%%\n"
    }
   }
  },
  {
   "cell_type": "code",
   "execution_count": 51,
   "outputs": [],
   "source": [
    "from sklearn.impute import SimpleImputer\n",
    "from sklearn.preprocessing import OneHotEncoder\n",
    "from sklearn.preprocessing import StandardScaler\n",
    "from sklearn.compose import ColumnTransformer\n",
    "final_pieline=ColumnTransformer([\n",
    "    (\"Age\",SimpleImputer(strategy='median'),[\"Age\",\"Cabin\",\"Ticket\"]),\n",
    "    (\"Num\",StandardScaler(),[\"Fare\"]),\n",
    "],\n",
    "    remainder='passthrough')"
   ],
   "metadata": {
    "collapsed": false,
    "pycharm": {
     "name": "#%%\n"
    }
   }
  },
  {
   "cell_type": "code",
   "execution_count": 52,
   "outputs": [],
   "source": [
    "def split_fnc(x):\n",
    "    listt=x.split(\" \")[:-1]\n",
    "    string=\"\".join(listt)\n",
    "    for char in \"/\",\".\",\",\":\n",
    "        string=string.replace(char,\"\")\n",
    "    return string if string!=\"\" else np.nan"
   ],
   "metadata": {
    "collapsed": false,
    "pycharm": {
     "name": "#%%\n"
    }
   }
  },
  {
   "cell_type": "code",
   "execution_count": 53,
   "outputs": [],
   "source": [
    "def split_cabin(x):\n",
    "    if x is np.nan:\n",
    "        return\n",
    "    listx=x.split(\" \")\n",
    "    for el in listx:\n",
    "        if len(listx)==1:\n",
    "            break\n",
    "        if len(el)==1:\n",
    "            listx.pop(listx.index(el))\n",
    "    return listx[0][0]"
   ],
   "metadata": {
    "collapsed": false,
    "pycharm": {
     "name": "#%%\n"
    }
   }
  },
  {
   "cell_type": "code",
   "execution_count": 54,
   "outputs": [],
   "source": [
    "def count_cabin(x):\n",
    "    if x is np.nan:\n",
    "        return\n",
    "    listx=x.split(\" \")\n",
    "    for el in listx:\n",
    "        if len(listx)==1:\n",
    "            break\n",
    "        if len(el)==1:\n",
    "            listx.pop(listx.index(el))\n",
    "    return len(listx)"
   ],
   "metadata": {
    "collapsed": false,
    "pycharm": {
     "name": "#%%\n"
    }
   }
  },
  {
   "cell_type": "code",
   "execution_count": 55,
   "outputs": [],
   "source": [
    "def transform(dataframe,labled=True):\n",
    "    copyd=dataframe.copy()\n",
    "    indexes=copyd.pop(\"PassengerId\")\n",
    "    if labled:\n",
    "        y=copyd.pop(\"Survived\").astype(\"bool\")\n",
    "    copyd.Name=copyd[[\"Name\"]].apply(lambda element: element.Name.split(\",\")[0],axis=1)\n",
    "    copyd[\"sub-Ticket\"] = copyd[\"Ticket\"].apply(split_fnc)\n",
    "    copyd[\"Ticket\"]=copyd[\"Ticket\"].apply(lambda x:x.split(\" \")[-1] if x.split(\" \")[-1].isnumeric() else np.nan)\n",
    "    copyd[\"sub-Cabin\"] = copyd[\"Cabin\"].apply(split_cabin)\n",
    "    copyd[\"Cabin\"] = copyd[\"Cabin\"].apply(count_cabin)\n",
    "    copyd[\"Ticket\"] = copyd[\"Ticket\"].astype('float')\n",
    "    copyd[\"Cabin\"] = copyd[\"Cabin\"].astype('float')\n",
    "    for col in \"Name\",\"Embarked\",\"Sex\",\"sub-Cabin\",\"sub-Ticket\":\n",
    "        copyd[col] = copyd[col].astype('category')\n",
    "        copyd[col] = copyd[col].cat.codes.astype('category')\n",
    "    X=final_pieline.fit_transform(copyd)\n",
    "    return X,y if labled else indexes"
   ],
   "metadata": {
    "collapsed": false,
    "pycharm": {
     "name": "#%%\n"
    }
   }
  },
  {
   "cell_type": "code",
   "execution_count": 56,
   "outputs": [],
   "source": [
    "X,y=transform(df)"
   ],
   "metadata": {
    "collapsed": false,
    "pycharm": {
     "name": "#%%\n"
    }
   }
  },
  {
   "cell_type": "code",
   "execution_count": 57,
   "outputs": [],
   "source": [
    "from sklearn.ensemble import RandomForestClassifier\n",
    "rf_class=RandomForestClassifier(bootstrap=True,max_features=\"auto\",n_estimators=400)"
   ],
   "metadata": {
    "collapsed": false,
    "pycharm": {
     "name": "#%%\n"
    }
   }
  },
  {
   "cell_type": "code",
   "execution_count": 58,
   "outputs": [],
   "source": [
    "from sklearn.model_selection import cross_val_predict\n",
    "y_pred_amel=cross_val_predict(rf_class,X,y,cv=5)"
   ],
   "metadata": {
    "collapsed": false,
    "pycharm": {
     "name": "#%%\n"
    }
   }
  },
  {
   "cell_type": "code",
   "execution_count": 59,
   "outputs": [
    {
     "data": {
      "text/plain": "(0.8245033112582781, 0.7280701754385965)"
     },
     "execution_count": 59,
     "metadata": {},
     "output_type": "execute_result"
    }
   ],
   "source": [
    "from sklearn.metrics import precision_score, recall_score\n",
    "precision_score(y, y_pred_amel),recall_score(y, y_pred_amel)"
   ],
   "metadata": {
    "collapsed": false,
    "pycharm": {
     "name": "#%%\n"
    }
   }
  },
  {
   "cell_type": "code",
   "execution_count": 88,
   "outputs": [
    {
     "data": {
      "text/plain": "RandomForestClassifier(n_estimators=400)"
     },
     "execution_count": 88,
     "metadata": {},
     "output_type": "execute_result"
    }
   ],
   "source": [
    "rf_class=RandomForestClassifier(bootstrap=True,max_features=\"auto\",n_estimators=400)\n",
    "rf_class.fit(X,y)"
   ],
   "metadata": {
    "collapsed": false,
    "pycharm": {
     "name": "#%%\n"
    }
   }
  },
  {
   "cell_type": "code",
   "execution_count": 89,
   "outputs": [],
   "source": [
    "test=pd.read_csv(\"dataset/test.csv\")"
   ],
   "metadata": {
    "collapsed": false,
    "pycharm": {
     "name": "#%%\n"
    }
   }
  },
  {
   "cell_type": "code",
   "execution_count": 90,
   "outputs": [],
   "source": [
    "copy=test.copy()"
   ],
   "metadata": {
    "collapsed": false,
    "pycharm": {
     "name": "#%%\n"
    }
   }
  },
  {
   "cell_type": "code",
   "execution_count": 91,
   "outputs": [],
   "source": [
    "imputer=SimpleImputer(strategy=\"median\")"
   ],
   "metadata": {
    "collapsed": false,
    "pycharm": {
     "name": "#%%\n"
    }
   }
  },
  {
   "cell_type": "code",
   "execution_count": 92,
   "outputs": [],
   "source": [
    "copy[['Fare']]=imputer.fit_transform(X=copy[['Fare']])"
   ],
   "metadata": {
    "collapsed": false,
    "pycharm": {
     "name": "#%%\n"
    }
   }
  },
  {
   "cell_type": "code",
   "execution_count": 93,
   "outputs": [],
   "source": [
    "X_test,indexes=transform(copy,labled=False)"
   ],
   "metadata": {
    "collapsed": false,
    "pycharm": {
     "name": "#%%\n"
    }
   }
  },
  {
   "cell_type": "code",
   "execution_count": 94,
   "outputs": [],
   "source": [
    "y_test_pred=rf_class.predict(X_test)"
   ],
   "metadata": {
    "collapsed": false,
    "pycharm": {
     "name": "#%%\n"
    }
   }
  },
  {
   "cell_type": "code",
   "execution_count": 109,
   "outputs": [],
   "source": [
    "y_test_pred_serie=pd.Series(y_test_pred.astype(\"int\"))"
   ],
   "metadata": {
    "collapsed": false,
    "pycharm": {
     "name": "#%%\n"
    }
   }
  },
  {
   "cell_type": "code",
   "execution_count": 110,
   "outputs": [
    {
     "data": {
      "text/plain": "0      0\n1      0\n2      0\n3      0\n4      1\n      ..\n413    0\n414    1\n415    0\n416    0\n417    0\nLength: 418, dtype: int32"
     },
     "execution_count": 110,
     "metadata": {},
     "output_type": "execute_result"
    }
   ],
   "source": [
    "y_test_pred_serie"
   ],
   "metadata": {
    "collapsed": false,
    "pycharm": {
     "name": "#%%\n"
    }
   }
  },
  {
   "cell_type": "code",
   "execution_count": 111,
   "outputs": [],
   "source": [
    "output=pd.DataFrame.merge(indexes,y_test_pred_serie.rename(\"Survived\"),right_index=True,left_index=True)"
   ],
   "metadata": {
    "collapsed": false,
    "pycharm": {
     "name": "#%%\n"
    }
   }
  },
  {
   "cell_type": "code",
   "execution_count": 116,
   "outputs": [],
   "source": [
    "output.to_csv(\"submission/titanic.csv\",index=False)"
   ],
   "metadata": {
    "collapsed": false,
    "pycharm": {
     "name": "#%%\n"
    }
   }
  },
  {
   "cell_type": "code",
   "execution_count": null,
   "outputs": [],
   "source": [],
   "metadata": {
    "collapsed": false,
    "pycharm": {
     "name": "#%%\n"
    }
   }
  }
 ],
 "metadata": {
  "kernelspec": {
   "display_name": "Python 3",
   "language": "python",
   "name": "python3"
  },
  "language_info": {
   "codemirror_mode": {
    "name": "ipython",
    "version": 2
   },
   "file_extension": ".py",
   "mimetype": "text/x-python",
   "name": "python",
   "nbconvert_exporter": "python",
   "pygments_lexer": "ipython2",
   "version": "2.7.6"
  }
 },
 "nbformat": 4,
 "nbformat_minor": 0
}