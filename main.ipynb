{
 "cells": [
  {
   "cell_type": "code",
   "execution_count": 1,
   "outputs": [],
   "source": [
    "import pandas as pd\n",
    "import numpy as np\n",
    "import matplotlib.pyplot as plt"
   ],
   "metadata": {
    "collapsed": false,
    "pycharm": {
     "name": "#%%\n"
    }
   }
  },
  {
   "cell_type": "code",
   "execution_count": 50,
   "outputs": [],
   "source": [
    "df=pd.read_csv(\"dataset/train.csv\")"
   ],
   "metadata": {
    "collapsed": false,
    "pycharm": {
     "name": "#%%\n"
    }
   }
  },
  {
   "cell_type": "code",
   "execution_count": 3,
   "outputs": [
    {
     "name": "stdout",
     "output_type": "stream",
     "text": [
      "<class 'pandas.core.frame.DataFrame'>\n",
      "RangeIndex: 891 entries, 0 to 890\n",
      "Data columns (total 12 columns):\n",
      " #   Column       Non-Null Count  Dtype  \n",
      "---  ------       --------------  -----  \n",
      " 0   PassengerId  891 non-null    int64  \n",
      " 1   Survived     891 non-null    int64  \n",
      " 2   Pclass       891 non-null    int64  \n",
      " 3   Name         891 non-null    object \n",
      " 4   Sex          891 non-null    object \n",
      " 5   Age          714 non-null    float64\n",
      " 6   SibSp        891 non-null    int64  \n",
      " 7   Parch        891 non-null    int64  \n",
      " 8   Ticket       891 non-null    object \n",
      " 9   Fare         891 non-null    float64\n",
      " 10  Cabin        204 non-null    object \n",
      " 11  Embarked     889 non-null    object \n",
      "dtypes: float64(2), int64(5), object(5)\n",
      "memory usage: 83.7+ KB\n"
     ]
    }
   ],
   "source": [
    "df.info()"
   ],
   "metadata": {
    "collapsed": false,
    "pycharm": {
     "name": "#%%\n"
    }
   }
  },
  {
   "cell_type": "code",
   "execution_count": 570,
   "outputs": [
    {
     "data": {
      "text/plain": "       PassengerId    Survived      Pclass         Age       SibSp  \\\ncount   891.000000  891.000000  891.000000  714.000000  891.000000   \nmean    446.000000    0.383838    2.308642   29.699118    0.523008   \nstd     257.353842    0.486592    0.836071   14.526497    1.102743   \nmin       1.000000    0.000000    1.000000    0.420000    0.000000   \n25%     223.500000    0.000000    2.000000   20.125000    0.000000   \n50%     446.000000    0.000000    3.000000   28.000000    0.000000   \n75%     668.500000    1.000000    3.000000   38.000000    1.000000   \nmax     891.000000    1.000000    3.000000   80.000000    8.000000   \n\n            Parch        Fare  \ncount  891.000000  891.000000  \nmean     0.381594   32.204208  \nstd      0.806057   49.693429  \nmin      0.000000    0.000000  \n25%      0.000000    7.910400  \n50%      0.000000   14.454200  \n75%      0.000000   31.000000  \nmax      6.000000  512.329200  ",
      "text/html": "<div>\n<style scoped>\n    .dataframe tbody tr th:only-of-type {\n        vertical-align: middle;\n    }\n\n    .dataframe tbody tr th {\n        vertical-align: top;\n    }\n\n    .dataframe thead th {\n        text-align: right;\n    }\n</style>\n<table border=\"1\" class=\"dataframe\">\n  <thead>\n    <tr style=\"text-align: right;\">\n      <th></th>\n      <th>PassengerId</th>\n      <th>Survived</th>\n      <th>Pclass</th>\n      <th>Age</th>\n      <th>SibSp</th>\n      <th>Parch</th>\n      <th>Fare</th>\n    </tr>\n  </thead>\n  <tbody>\n    <tr>\n      <th>count</th>\n      <td>891.000000</td>\n      <td>891.000000</td>\n      <td>891.000000</td>\n      <td>714.000000</td>\n      <td>891.000000</td>\n      <td>891.000000</td>\n      <td>891.000000</td>\n    </tr>\n    <tr>\n      <th>mean</th>\n      <td>446.000000</td>\n      <td>0.383838</td>\n      <td>2.308642</td>\n      <td>29.699118</td>\n      <td>0.523008</td>\n      <td>0.381594</td>\n      <td>32.204208</td>\n    </tr>\n    <tr>\n      <th>std</th>\n      <td>257.353842</td>\n      <td>0.486592</td>\n      <td>0.836071</td>\n      <td>14.526497</td>\n      <td>1.102743</td>\n      <td>0.806057</td>\n      <td>49.693429</td>\n    </tr>\n    <tr>\n      <th>min</th>\n      <td>1.000000</td>\n      <td>0.000000</td>\n      <td>1.000000</td>\n      <td>0.420000</td>\n      <td>0.000000</td>\n      <td>0.000000</td>\n      <td>0.000000</td>\n    </tr>\n    <tr>\n      <th>25%</th>\n      <td>223.500000</td>\n      <td>0.000000</td>\n      <td>2.000000</td>\n      <td>20.125000</td>\n      <td>0.000000</td>\n      <td>0.000000</td>\n      <td>7.910400</td>\n    </tr>\n    <tr>\n      <th>50%</th>\n      <td>446.000000</td>\n      <td>0.000000</td>\n      <td>3.000000</td>\n      <td>28.000000</td>\n      <td>0.000000</td>\n      <td>0.000000</td>\n      <td>14.454200</td>\n    </tr>\n    <tr>\n      <th>75%</th>\n      <td>668.500000</td>\n      <td>1.000000</td>\n      <td>3.000000</td>\n      <td>38.000000</td>\n      <td>1.000000</td>\n      <td>0.000000</td>\n      <td>31.000000</td>\n    </tr>\n    <tr>\n      <th>max</th>\n      <td>891.000000</td>\n      <td>1.000000</td>\n      <td>3.000000</td>\n      <td>80.000000</td>\n      <td>8.000000</td>\n      <td>6.000000</td>\n      <td>512.329200</td>\n    </tr>\n  </tbody>\n</table>\n</div>"
     },
     "execution_count": 570,
     "metadata": {},
     "output_type": "execute_result"
    }
   ],
   "source": [
    "df.describe()"
   ],
   "metadata": {
    "collapsed": false,
    "pycharm": {
     "name": "#%%\n"
    }
   }
  },
  {
   "cell_type": "code",
   "execution_count": 4,
   "outputs": [],
   "source": [
    "cop=df.copy()"
   ],
   "metadata": {
    "collapsed": false,
    "pycharm": {
     "name": "#%%\n"
    }
   }
  },
  {
   "cell_type": "code",
   "execution_count": 5,
   "outputs": [],
   "source": [
    "cop=df.copy()\n",
    "def split_fnc(x):\n",
    "    listt=x.split(\" \")[:-1]\n",
    "    string=\"\".join(listt)\n",
    "    for char in \"/\",\".\",\",\":\n",
    "        string=string.replace(char,\"\")\n",
    "    return string if string!=\"\" else np.nan"
   ],
   "metadata": {
    "collapsed": false,
    "pycharm": {
     "name": "#%%\n"
    }
   }
  },
  {
   "cell_type": "code",
   "execution_count": 6,
   "outputs": [],
   "source": [
    "cop[\"sub-Ticket\"]=cop[\"Ticket\"].apply(split_fnc)"
   ],
   "metadata": {
    "collapsed": false,
    "pycharm": {
     "name": "#%%\n"
    }
   }
  },
  {
   "cell_type": "code",
   "execution_count": 7,
   "outputs": [],
   "source": [
    "def split_cabin(x):\n",
    "    if x is np.nan:\n",
    "        return\n",
    "    listx=x.split(\" \")\n",
    "    for el in listx:\n",
    "        if len(listx)==1:\n",
    "            break\n",
    "        if len(el)==1:\n",
    "            listx.pop(listx.index(el))\n",
    "    return listx[0][0]"
   ],
   "metadata": {
    "collapsed": false,
    "pycharm": {
     "name": "#%%\n"
    }
   }
  },
  {
   "cell_type": "code",
   "execution_count": 8,
   "outputs": [],
   "source": [
    "def count_cabin(x):\n",
    "    if x is np.nan:\n",
    "        return\n",
    "    listx=x.split(\" \")\n",
    "    for el in listx:\n",
    "        if len(listx)==1:\n",
    "            break\n",
    "        if len(el)==1:\n",
    "            listx.pop(listx.index(el))\n",
    "    return len(listx)"
   ],
   "metadata": {
    "collapsed": false,
    "pycharm": {
     "name": "#%%\n"
    }
   }
  },
  {
   "cell_type": "code",
   "execution_count": 9,
   "outputs": [],
   "source": [
    "cop[\"sub-Cabin\"]=cop[\"Cabin\"].apply(split_cabin)"
   ],
   "metadata": {
    "collapsed": false,
    "pycharm": {
     "name": "#%%\n"
    }
   }
  },
  {
   "cell_type": "code",
   "execution_count": 10,
   "outputs": [],
   "source": [
    "cop[\"Cabin\"]=cop[\"Cabin\"].apply(count_cabin)"
   ],
   "metadata": {
    "collapsed": false,
    "pycharm": {
     "name": "#%%\n"
    }
   }
  },
  {
   "cell_type": "code",
   "execution_count": 11,
   "outputs": [
    {
     "data": {
      "text/plain": "     PassengerId  Survived  Pclass  \\\n0              1         0       3   \n1              2         1       1   \n2              3         1       3   \n3              4         1       1   \n4              5         0       3   \n..           ...       ...     ...   \n886          887         0       2   \n887          888         1       1   \n888          889         0       3   \n889          890         1       1   \n890          891         0       3   \n\n                                                  Name     Sex   Age  SibSp  \\\n0                              Braund, Mr. Owen Harris    male  22.0      1   \n1    Cumings, Mrs. John Bradley (Florence Briggs Th...  female  38.0      1   \n2                               Heikkinen, Miss. Laina  female  26.0      0   \n3         Futrelle, Mrs. Jacques Heath (Lily May Peel)  female  35.0      1   \n4                             Allen, Mr. William Henry    male  35.0      0   \n..                                                 ...     ...   ...    ...   \n886                              Montvila, Rev. Juozas    male  27.0      0   \n887                       Graham, Miss. Margaret Edith  female  19.0      0   \n888           Johnston, Miss. Catherine Helen \"Carrie\"  female   NaN      1   \n889                              Behr, Mr. Karl Howell    male  26.0      0   \n890                                Dooley, Mr. Patrick    male  32.0      0   \n\n     Parch            Ticket     Fare  Cabin Embarked sub-Ticket sub-Cabin  \n0        0         A/5 21171   7.2500    NaN        S         A5      None  \n1        0          PC 17599  71.2833    1.0        C         PC         C  \n2        0  STON/O2. 3101282   7.9250    NaN        S     STONO2      None  \n3        0            113803  53.1000    1.0        S        NaN         C  \n4        0            373450   8.0500    NaN        S        NaN      None  \n..     ...               ...      ...    ...      ...        ...       ...  \n886      0            211536  13.0000    NaN        S        NaN      None  \n887      0            112053  30.0000    1.0        S        NaN         B  \n888      2        W./C. 6607  23.4500    NaN        S         WC      None  \n889      0            111369  30.0000    1.0        C        NaN         C  \n890      0            370376   7.7500    NaN        Q        NaN      None  \n\n[891 rows x 14 columns]",
      "text/html": "<div>\n<style scoped>\n    .dataframe tbody tr th:only-of-type {\n        vertical-align: middle;\n    }\n\n    .dataframe tbody tr th {\n        vertical-align: top;\n    }\n\n    .dataframe thead th {\n        text-align: right;\n    }\n</style>\n<table border=\"1\" class=\"dataframe\">\n  <thead>\n    <tr style=\"text-align: right;\">\n      <th></th>\n      <th>PassengerId</th>\n      <th>Survived</th>\n      <th>Pclass</th>\n      <th>Name</th>\n      <th>Sex</th>\n      <th>Age</th>\n      <th>SibSp</th>\n      <th>Parch</th>\n      <th>Ticket</th>\n      <th>Fare</th>\n      <th>Cabin</th>\n      <th>Embarked</th>\n      <th>sub-Ticket</th>\n      <th>sub-Cabin</th>\n    </tr>\n  </thead>\n  <tbody>\n    <tr>\n      <th>0</th>\n      <td>1</td>\n      <td>0</td>\n      <td>3</td>\n      <td>Braund, Mr. Owen Harris</td>\n      <td>male</td>\n      <td>22.0</td>\n      <td>1</td>\n      <td>0</td>\n      <td>A/5 21171</td>\n      <td>7.2500</td>\n      <td>NaN</td>\n      <td>S</td>\n      <td>A5</td>\n      <td>None</td>\n    </tr>\n    <tr>\n      <th>1</th>\n      <td>2</td>\n      <td>1</td>\n      <td>1</td>\n      <td>Cumings, Mrs. John Bradley (Florence Briggs Th...</td>\n      <td>female</td>\n      <td>38.0</td>\n      <td>1</td>\n      <td>0</td>\n      <td>PC 17599</td>\n      <td>71.2833</td>\n      <td>1.0</td>\n      <td>C</td>\n      <td>PC</td>\n      <td>C</td>\n    </tr>\n    <tr>\n      <th>2</th>\n      <td>3</td>\n      <td>1</td>\n      <td>3</td>\n      <td>Heikkinen, Miss. Laina</td>\n      <td>female</td>\n      <td>26.0</td>\n      <td>0</td>\n      <td>0</td>\n      <td>STON/O2. 3101282</td>\n      <td>7.9250</td>\n      <td>NaN</td>\n      <td>S</td>\n      <td>STONO2</td>\n      <td>None</td>\n    </tr>\n    <tr>\n      <th>3</th>\n      <td>4</td>\n      <td>1</td>\n      <td>1</td>\n      <td>Futrelle, Mrs. Jacques Heath (Lily May Peel)</td>\n      <td>female</td>\n      <td>35.0</td>\n      <td>1</td>\n      <td>0</td>\n      <td>113803</td>\n      <td>53.1000</td>\n      <td>1.0</td>\n      <td>S</td>\n      <td>NaN</td>\n      <td>C</td>\n    </tr>\n    <tr>\n      <th>4</th>\n      <td>5</td>\n      <td>0</td>\n      <td>3</td>\n      <td>Allen, Mr. William Henry</td>\n      <td>male</td>\n      <td>35.0</td>\n      <td>0</td>\n      <td>0</td>\n      <td>373450</td>\n      <td>8.0500</td>\n      <td>NaN</td>\n      <td>S</td>\n      <td>NaN</td>\n      <td>None</td>\n    </tr>\n    <tr>\n      <th>...</th>\n      <td>...</td>\n      <td>...</td>\n      <td>...</td>\n      <td>...</td>\n      <td>...</td>\n      <td>...</td>\n      <td>...</td>\n      <td>...</td>\n      <td>...</td>\n      <td>...</td>\n      <td>...</td>\n      <td>...</td>\n      <td>...</td>\n      <td>...</td>\n    </tr>\n    <tr>\n      <th>886</th>\n      <td>887</td>\n      <td>0</td>\n      <td>2</td>\n      <td>Montvila, Rev. Juozas</td>\n      <td>male</td>\n      <td>27.0</td>\n      <td>0</td>\n      <td>0</td>\n      <td>211536</td>\n      <td>13.0000</td>\n      <td>NaN</td>\n      <td>S</td>\n      <td>NaN</td>\n      <td>None</td>\n    </tr>\n    <tr>\n      <th>887</th>\n      <td>888</td>\n      <td>1</td>\n      <td>1</td>\n      <td>Graham, Miss. Margaret Edith</td>\n      <td>female</td>\n      <td>19.0</td>\n      <td>0</td>\n      <td>0</td>\n      <td>112053</td>\n      <td>30.0000</td>\n      <td>1.0</td>\n      <td>S</td>\n      <td>NaN</td>\n      <td>B</td>\n    </tr>\n    <tr>\n      <th>888</th>\n      <td>889</td>\n      <td>0</td>\n      <td>3</td>\n      <td>Johnston, Miss. Catherine Helen \"Carrie\"</td>\n      <td>female</td>\n      <td>NaN</td>\n      <td>1</td>\n      <td>2</td>\n      <td>W./C. 6607</td>\n      <td>23.4500</td>\n      <td>NaN</td>\n      <td>S</td>\n      <td>WC</td>\n      <td>None</td>\n    </tr>\n    <tr>\n      <th>889</th>\n      <td>890</td>\n      <td>1</td>\n      <td>1</td>\n      <td>Behr, Mr. Karl Howell</td>\n      <td>male</td>\n      <td>26.0</td>\n      <td>0</td>\n      <td>0</td>\n      <td>111369</td>\n      <td>30.0000</td>\n      <td>1.0</td>\n      <td>C</td>\n      <td>NaN</td>\n      <td>C</td>\n    </tr>\n    <tr>\n      <th>890</th>\n      <td>891</td>\n      <td>0</td>\n      <td>3</td>\n      <td>Dooley, Mr. Patrick</td>\n      <td>male</td>\n      <td>32.0</td>\n      <td>0</td>\n      <td>0</td>\n      <td>370376</td>\n      <td>7.7500</td>\n      <td>NaN</td>\n      <td>Q</td>\n      <td>NaN</td>\n      <td>None</td>\n    </tr>\n  </tbody>\n</table>\n<p>891 rows × 14 columns</p>\n</div>"
     },
     "execution_count": 11,
     "metadata": {},
     "output_type": "execute_result"
    }
   ],
   "source": [
    "cop"
   ],
   "metadata": {
    "collapsed": false,
    "pycharm": {
     "name": "#%%\n"
    }
   }
  },
  {
   "cell_type": "code",
   "execution_count": 12,
   "outputs": [
    {
     "data": {
      "text/plain": "<Figure size 1440x1080 with 9 Axes>",
      "image/png": "[encoded data removed]"
     },
     "metadata": {
      "needs_background": "light"
     },
     "output_type": "display_data"
    }
   ],
   "source": [
    "df.hist(bins=50, figsize=(20,15))\n",
    "plt.show()"
   ],
   "metadata": {
    "collapsed": false,
    "pycharm": {
     "name": "#%%\n"
    }
   }
  },
  {
   "cell_type": "code",
   "execution_count": 13,
   "outputs": [
    {
     "data": {
      "text/plain": "             PassengerId  Survived    Pclass       Age     SibSp     Parch  \\\nPassengerId     1.000000 -0.005007 -0.035144  0.036847 -0.057527 -0.001652   \nSurvived       -0.005007  1.000000 -0.338481 -0.077221 -0.035322  0.081629   \nPclass         -0.035144 -0.338481  1.000000 -0.369226  0.083081  0.018443   \nAge             0.036847 -0.077221 -0.369226  1.000000 -0.308247 -0.189119   \nSibSp          -0.057527 -0.035322  0.083081 -0.308247  1.000000  0.414838   \nParch          -0.001652  0.081629  0.018443 -0.189119  0.414838  1.000000   \nFare            0.012658  0.257307 -0.549500  0.096067  0.159651  0.216225   \n\n                 Fare  \nPassengerId  0.012658  \nSurvived     0.257307  \nPclass      -0.549500  \nAge          0.096067  \nSibSp        0.159651  \nParch        0.216225  \nFare         1.000000  ",
      "text/html": "<div>\n<style scoped>\n    .dataframe tbody tr th:only-of-type {\n        vertical-align: middle;\n    }\n\n    .dataframe tbody tr th {\n        vertical-align: top;\n    }\n\n    .dataframe thead th {\n        text-align: right;\n    }\n</style>\n<table border=\"1\" class=\"dataframe\">\n  <thead>\n    <tr style=\"text-align: right;\">\n      <th></th>\n      <th>PassengerId</th>\n      <th>Survived</th>\n      <th>Pclass</th>\n      <th>Age</th>\n      <th>SibSp</th>\n      <th>Parch</th>\n      <th>Fare</th>\n    </tr>\n  </thead>\n  <tbody>\n    <tr>\n      <th>PassengerId</th>\n      <td>1.000000</td>\n      <td>-0.005007</td>\n      <td>-0.035144</td>\n      <td>0.036847</td>\n      <td>-0.057527</td>\n      <td>-0.001652</td>\n      <td>0.012658</td>\n    </tr>\n    <tr>\n      <th>Survived</th>\n      <td>-0.005007</td>\n      <td>1.000000</td>\n      <td>-0.338481</td>\n      <td>-0.077221</td>\n      <td>-0.035322</td>\n      <td>0.081629</td>\n      <td>0.257307</td>\n    </tr>\n    <tr>\n      <th>Pclass</th>\n      <td>-0.035144</td>\n      <td>-0.338481</td>\n      <td>1.000000</td>\n      <td>-0.369226</td>\n      <td>0.083081</td>\n      <td>0.018443</td>\n      <td>-0.549500</td>\n    </tr>\n    <tr>\n      <th>Age</th>\n      <td>0.036847</td>\n      <td>-0.077221</td>\n      <td>-0.369226</td>\n      <td>1.000000</td>\n      <td>-0.308247</td>\n      <td>-0.189119</td>\n      <td>0.096067</td>\n    </tr>\n    <tr>\n      <th>SibSp</th>\n      <td>-0.057527</td>\n      <td>-0.035322</td>\n      <td>0.083081</td>\n      <td>-0.308247</td>\n      <td>1.000000</td>\n      <td>0.414838</td>\n      <td>0.159651</td>\n    </tr>\n    <tr>\n      <th>Parch</th>\n      <td>-0.001652</td>\n      <td>0.081629</td>\n      <td>0.018443</td>\n      <td>-0.189119</td>\n      <td>0.414838</td>\n      <td>1.000000</td>\n      <td>0.216225</td>\n    </tr>\n    <tr>\n      <th>Fare</th>\n      <td>0.012658</td>\n      <td>0.257307</td>\n      <td>-0.549500</td>\n      <td>0.096067</td>\n      <td>0.159651</td>\n      <td>0.216225</td>\n      <td>1.000000</td>\n    </tr>\n  </tbody>\n</table>\n</div>"
     },
     "execution_count": 13,
     "metadata": {},
     "output_type": "execute_result"
    }
   ],
   "source": [
    "df.corr()"
   ],
   "metadata": {
    "collapsed": false,
    "pycharm": {
     "name": "#%%\n"
    }
   }
  },
  {
   "cell_type": "code",
   "execution_count": 14,
   "outputs": [
    {
     "data": {
      "text/plain": "0        1\n1        2\n2        3\n3        4\n4        5\n      ... \n886    887\n887    888\n888    889\n889    890\n890    891\nName: PassengerId, Length: 891, dtype: int64"
     },
     "execution_count": 14,
     "metadata": {},
     "output_type": "execute_result"
    }
   ],
   "source": [
    "df.pop(\"PassengerId\")"
   ],
   "metadata": {
    "collapsed": false,
    "pycharm": {
     "name": "#%%\n"
    }
   }
  },
  {
   "cell_type": "code",
   "execution_count": 15,
   "outputs": [],
   "source": [
    "labels=df[\"Survived\"].copy()"
   ],
   "metadata": {
    "collapsed": false,
    "pycharm": {
     "name": "#%%\n"
    }
   }
  },
  {
   "cell_type": "code",
   "execution_count": 16,
   "outputs": [
    {
     "data": {
      "text/plain": "0      0\n1      1\n2      1\n3      1\n4      0\n      ..\n886    0\n887    1\n888    0\n889    1\n890    0\nName: Survived, Length: 891, dtype: int64"
     },
     "execution_count": 16,
     "metadata": {},
     "output_type": "execute_result"
    }
   ],
   "source": [
    "labels"
   ],
   "metadata": {
    "collapsed": false,
    "pycharm": {
     "name": "#%%\n"
    }
   }
  },
  {
   "cell_type": "markdown",
   "source": [
    "**Fill the Nones in Age column**"
   ],
   "metadata": {
    "collapsed": false,
    "pycharm": {
     "name": "#%% md\n"
    }
   }
  },
  {
   "cell_type": "code",
   "execution_count": 17,
   "outputs": [
    {
     "data": {
      "text/plain": "array([28.])"
     },
     "execution_count": 17,
     "metadata": {},
     "output_type": "execute_result"
    }
   ],
   "source": [
    "from sklearn.impute import SimpleImputer\n",
    "imputer=SimpleImputer(strategy='median')\n",
    "imputer.fit(df[[\"Age\"]])\n",
    "imputer.statistics_"
   ],
   "metadata": {
    "collapsed": false,
    "pycharm": {
     "name": "#%%\n"
    }
   }
  },
  {
   "cell_type": "code",
   "execution_count": 18,
   "outputs": [],
   "source": [
    "X=imputer.transform(df[[\"Age\"]])"
   ],
   "metadata": {
    "collapsed": false,
    "pycharm": {
     "name": "#%%\n"
    }
   }
  },
  {
   "cell_type": "code",
   "execution_count": 19,
   "outputs": [
    {
     "data": {
      "text/plain": "array([[22.  ],\n       [38.  ],\n       [26.  ],\n       [35.  ],\n       [35.  ],\n       [28.  ],\n       [54.  ],\n       [ 2.  ],\n       [27.  ],\n       [14.  ],\n       [ 4.  ],\n       [58.  ],\n       [20.  ],\n       [39.  ],\n       [14.  ],\n       [55.  ],\n       [ 2.  ],\n       [28.  ],\n       [31.  ],\n       [28.  ],\n       [35.  ],\n       [34.  ],\n       [15.  ],\n       [28.  ],\n       [ 8.  ],\n       [38.  ],\n       [28.  ],\n       [19.  ],\n       [28.  ],\n       [28.  ],\n       [40.  ],\n       [28.  ],\n       [28.  ],\n       [66.  ],\n       [28.  ],\n       [42.  ],\n       [28.  ],\n       [21.  ],\n       [18.  ],\n       [14.  ],\n       [40.  ],\n       [27.  ],\n       [28.  ],\n       [ 3.  ],\n       [19.  ],\n       [28.  ],\n       [28.  ],\n       [28.  ],\n       [28.  ],\n       [18.  ],\n       [ 7.  ],\n       [21.  ],\n       [49.  ],\n       [29.  ],\n       [65.  ],\n       [28.  ],\n       [21.  ],\n       [28.5 ],\n       [ 5.  ],\n       [11.  ],\n       [22.  ],\n       [38.  ],\n       [45.  ],\n       [ 4.  ],\n       [28.  ],\n       [28.  ],\n       [29.  ],\n       [19.  ],\n       [17.  ],\n       [26.  ],\n       [32.  ],\n       [16.  ],\n       [21.  ],\n       [26.  ],\n       [32.  ],\n       [25.  ],\n       [28.  ],\n       [28.  ],\n       [ 0.83],\n       [30.  ],\n       [22.  ],\n       [29.  ],\n       [28.  ],\n       [28.  ],\n       [17.  ],\n       [33.  ],\n       [16.  ],\n       [28.  ],\n       [23.  ],\n       [24.  ],\n       [29.  ],\n       [20.  ],\n       [46.  ],\n       [26.  ],\n       [59.  ],\n       [28.  ],\n       [71.  ],\n       [23.  ],\n       [34.  ],\n       [34.  ],\n       [28.  ],\n       [28.  ],\n       [21.  ],\n       [33.  ],\n       [37.  ],\n       [28.  ],\n       [21.  ],\n       [28.  ],\n       [38.  ],\n       [28.  ],\n       [47.  ],\n       [14.5 ],\n       [22.  ],\n       [20.  ],\n       [17.  ],\n       [21.  ],\n       [70.5 ],\n       [29.  ],\n       [24.  ],\n       [ 2.  ],\n       [21.  ],\n       [28.  ],\n       [32.5 ],\n       [32.5 ],\n       [54.  ],\n       [12.  ],\n       [28.  ],\n       [24.  ],\n       [28.  ],\n       [45.  ],\n       [33.  ],\n       [20.  ],\n       [47.  ],\n       [29.  ],\n       [25.  ],\n       [23.  ],\n       [19.  ],\n       [37.  ],\n       [16.  ],\n       [24.  ],\n       [28.  ],\n       [22.  ],\n       [24.  ],\n       [19.  ],\n       [18.  ],\n       [19.  ],\n       [27.  ],\n       [ 9.  ],\n       [36.5 ],\n       [42.  ],\n       [51.  ],\n       [22.  ],\n       [55.5 ],\n       [40.5 ],\n       [28.  ],\n       [51.  ],\n       [16.  ],\n       [30.  ],\n       [28.  ],\n       [28.  ],\n       [44.  ],\n       [40.  ],\n       [26.  ],\n       [17.  ],\n       [ 1.  ],\n       [ 9.  ],\n       [28.  ],\n       [45.  ],\n       [28.  ],\n       [28.  ],\n       [61.  ],\n       [ 4.  ],\n       [ 1.  ],\n       [21.  ],\n       [56.  ],\n       [18.  ],\n       [28.  ],\n       [50.  ],\n       [30.  ],\n       [36.  ],\n       [28.  ],\n       [28.  ],\n       [ 9.  ],\n       [ 1.  ],\n       [ 4.  ],\n       [28.  ],\n       [28.  ],\n       [45.  ],\n       [40.  ],\n       [36.  ],\n       [32.  ],\n       [19.  ],\n       [19.  ],\n       [ 3.  ],\n       [44.  ],\n       [58.  ],\n       [28.  ],\n       [42.  ],\n       [28.  ],\n       [24.  ],\n       [28.  ],\n       [28.  ],\n       [34.  ],\n       [45.5 ],\n       [18.  ],\n       [ 2.  ],\n       [32.  ],\n       [26.  ],\n       [16.  ],\n       [40.  ],\n       [24.  ],\n       [35.  ],\n       [22.  ],\n       [30.  ],\n       [28.  ],\n       [31.  ],\n       [27.  ],\n       [42.  ],\n       [32.  ],\n       [30.  ],\n       [16.  ],\n       [27.  ],\n       [51.  ],\n       [28.  ],\n       [38.  ],\n       [22.  ],\n       [19.  ],\n       [20.5 ],\n       [18.  ],\n       [28.  ],\n       [35.  ],\n       [29.  ],\n       [59.  ],\n       [ 5.  ],\n       [24.  ],\n       [28.  ],\n       [44.  ],\n       [ 8.  ],\n       [19.  ],\n       [33.  ],\n       [28.  ],\n       [28.  ],\n       [29.  ],\n       [22.  ],\n       [30.  ],\n       [44.  ],\n       [25.  ],\n       [24.  ],\n       [37.  ],\n       [54.  ],\n       [28.  ],\n       [29.  ],\n       [62.  ],\n       [30.  ],\n       [41.  ],\n       [29.  ],\n       [28.  ],\n       [30.  ],\n       [35.  ],\n       [50.  ],\n       [28.  ],\n       [ 3.  ],\n       [52.  ],\n       [40.  ],\n       [28.  ],\n       [36.  ],\n       [16.  ],\n       [25.  ],\n       [58.  ],\n       [35.  ],\n       [28.  ],\n       [25.  ],\n       [41.  ],\n       [37.  ],\n       [28.  ],\n       [63.  ],\n       [45.  ],\n       [28.  ],\n       [ 7.  ],\n       [35.  ],\n       [65.  ],\n       [28.  ],\n       [16.  ],\n       [19.  ],\n       [28.  ],\n       [33.  ],\n       [30.  ],\n       [22.  ],\n       [42.  ],\n       [22.  ],\n       [26.  ],\n       [19.  ],\n       [36.  ],\n       [24.  ],\n       [24.  ],\n       [28.  ],\n       [23.5 ],\n       [ 2.  ],\n       [28.  ],\n       [50.  ],\n       [28.  ],\n       [28.  ],\n       [19.  ],\n       [28.  ],\n       [28.  ],\n       [ 0.92],\n       [28.  ],\n       [17.  ],\n       [30.  ],\n       [30.  ],\n       [24.  ],\n       [18.  ],\n       [26.  ],\n       [28.  ],\n       [43.  ],\n       [26.  ],\n       [24.  ],\n       [54.  ],\n       [31.  ],\n       [40.  ],\n       [22.  ],\n       [27.  ],\n       [30.  ],\n       [22.  ],\n       [28.  ],\n       [36.  ],\n       [61.  ],\n       [36.  ],\n       [31.  ],\n       [16.  ],\n       [28.  ],\n       [45.5 ],\n       [38.  ],\n       [16.  ],\n       [28.  ],\n       [28.  ],\n       [29.  ],\n       [41.  ],\n       [45.  ],\n       [45.  ],\n       [ 2.  ],\n       [24.  ],\n       [28.  ],\n       [25.  ],\n       [36.  ],\n       [24.  ],\n       [40.  ],\n       [28.  ],\n       [ 3.  ],\n       [42.  ],\n       [23.  ],\n       [28.  ],\n       [15.  ],\n       [25.  ],\n       [28.  ],\n       [28.  ],\n       [22.  ],\n       [38.  ],\n       [28.  ],\n       [28.  ],\n       [40.  ],\n       [29.  ],\n       [45.  ],\n       [35.  ],\n       [28.  ],\n       [30.  ],\n       [60.  ],\n       [28.  ],\n       [28.  ],\n       [24.  ],\n       [25.  ],\n       [18.  ],\n       [19.  ],\n       [22.  ],\n       [ 3.  ],\n       [28.  ],\n       [22.  ],\n       [27.  ],\n       [20.  ],\n       [19.  ],\n       [42.  ],\n       [ 1.  ],\n       [32.  ],\n       [35.  ],\n       [28.  ],\n       [18.  ],\n       [ 1.  ],\n       [36.  ],\n       [28.  ],\n       [17.  ],\n       [36.  ],\n       [21.  ],\n       [28.  ],\n       [23.  ],\n       [24.  ],\n       [22.  ],\n       [31.  ],\n       [46.  ],\n       [23.  ],\n       [28.  ],\n       [39.  ],\n       [26.  ],\n       [21.  ],\n       [28.  ],\n       [20.  ],\n       [34.  ],\n       [51.  ],\n       [ 3.  ],\n       [21.  ],\n       [28.  ],\n       [28.  ],\n       [28.  ],\n       [33.  ],\n       [28.  ],\n       [44.  ],\n       [28.  ],\n       [34.  ],\n       [18.  ],\n       [30.  ],\n       [10.  ],\n       [28.  ],\n       [21.  ],\n       [29.  ],\n       [28.  ],\n       [18.  ],\n       [28.  ],\n       [28.  ],\n       [19.  ],\n       [28.  ],\n       [32.  ],\n       [28.  ],\n       [28.  ],\n       [42.  ],\n       [17.  ],\n       [50.  ],\n       [14.  ],\n       [21.  ],\n       [24.  ],\n       [64.  ],\n       [31.  ],\n       [45.  ],\n       [20.  ],\n       [25.  ],\n       [28.  ],\n       [28.  ],\n       [ 4.  ],\n       [13.  ],\n       [34.  ],\n       [ 5.  ],\n       [52.  ],\n       [36.  ],\n       [28.  ],\n       [30.  ],\n       [49.  ],\n       [28.  ],\n       [29.  ],\n       [65.  ],\n       [28.  ],\n       [50.  ],\n       [28.  ],\n       [48.  ],\n       [34.  ],\n       [47.  ],\n       [48.  ],\n       [28.  ],\n       [38.  ],\n       [28.  ],\n       [56.  ],\n       [28.  ],\n       [ 0.75],\n       [28.  ],\n       [38.  ],\n       [33.  ],\n       [23.  ],\n       [22.  ],\n       [28.  ],\n       [34.  ],\n       [29.  ],\n       [22.  ],\n       [ 2.  ],\n       [ 9.  ],\n       [28.  ],\n       [50.  ],\n       [63.  ],\n       [25.  ],\n       [28.  ],\n       [35.  ],\n       [58.  ],\n       [30.  ],\n       [ 9.  ],\n       [28.  ],\n       [21.  ],\n       [55.  ],\n       [71.  ],\n       [21.  ],\n       [28.  ],\n       [54.  ],\n       [28.  ],\n       [25.  ],\n       [24.  ],\n       [17.  ],\n       [21.  ],\n       [28.  ],\n       [37.  ],\n       [16.  ],\n       [18.  ],\n       [33.  ],\n       [28.  ],\n       [28.  ],\n       [26.  ],\n       [29.  ],\n       [28.  ],\n       [36.  ],\n       [54.  ],\n       [24.  ],\n       [47.  ],\n       [34.  ],\n       [28.  ],\n       [36.  ],\n       [32.  ],\n       [30.  ],\n       [22.  ],\n       [28.  ],\n       [44.  ],\n       [28.  ],\n       [40.5 ],\n       [50.  ],\n       [28.  ],\n       [39.  ],\n       [23.  ],\n       [ 2.  ],\n       [28.  ],\n       [17.  ],\n       [28.  ],\n       [30.  ],\n       [ 7.  ],\n       [45.  ],\n       [30.  ],\n       [28.  ],\n       [22.  ],\n       [36.  ],\n       [ 9.  ],\n       [11.  ],\n       [32.  ],\n       [50.  ],\n       [64.  ],\n       [19.  ],\n       [28.  ],\n       [33.  ],\n       [ 8.  ],\n       [17.  ],\n       [27.  ],\n       [28.  ],\n       [22.  ],\n       [22.  ],\n       [62.  ],\n       [48.  ],\n       [28.  ],\n       [39.  ],\n       [36.  ],\n       [28.  ],\n       [40.  ],\n       [28.  ],\n       [28.  ],\n       [28.  ],\n       [24.  ],\n       [19.  ],\n       [29.  ],\n       [28.  ],\n       [32.  ],\n       [62.  ],\n       [53.  ],\n       [36.  ],\n       [28.  ],\n       [16.  ],\n       [19.  ],\n       [34.  ],\n       [39.  ],\n       [28.  ],\n       [32.  ],\n       [25.  ],\n       [39.  ],\n       [54.  ],\n       [36.  ],\n       [28.  ],\n       [18.  ],\n       [47.  ],\n       [60.  ],\n       [22.  ],\n       [28.  ],\n       [35.  ],\n       [52.  ],\n       [47.  ],\n       [28.  ],\n       [37.  ],\n       [36.  ],\n       [28.  ],\n       [49.  ],\n       [28.  ],\n       [49.  ],\n       [24.  ],\n       [28.  ],\n       [28.  ],\n       [44.  ],\n       [35.  ],\n       [36.  ],\n       [30.  ],\n       [27.  ],\n       [22.  ],\n       [40.  ],\n       [39.  ],\n       [28.  ],\n       [28.  ],\n       [28.  ],\n       [35.  ],\n       [24.  ],\n       [34.  ],\n       [26.  ],\n       [ 4.  ],\n       [26.  ],\n       [27.  ],\n       [42.  ],\n       [20.  ],\n       [21.  ],\n       [21.  ],\n       [61.  ],\n       [57.  ],\n       [21.  ],\n       [26.  ],\n       [28.  ],\n       [80.  ],\n       [51.  ],\n       [32.  ],\n       [28.  ],\n       [ 9.  ],\n       [28.  ],\n       [32.  ],\n       [31.  ],\n       [41.  ],\n       [28.  ],\n       [20.  ],\n       [24.  ],\n       [ 2.  ],\n       [28.  ],\n       [ 0.75],\n       [48.  ],\n       [19.  ],\n       [56.  ],\n       [28.  ],\n       [23.  ],\n       [28.  ],\n       [18.  ],\n       [21.  ],\n       [28.  ],\n       [18.  ],\n       [24.  ],\n       [28.  ],\n       [32.  ],\n       [23.  ],\n       [58.  ],\n       [50.  ],\n       [40.  ],\n       [47.  ],\n       [36.  ],\n       [20.  ],\n       [32.  ],\n       [25.  ],\n       [28.  ],\n       [43.  ],\n       [28.  ],\n       [40.  ],\n       [31.  ],\n       [70.  ],\n       [31.  ],\n       [28.  ],\n       [18.  ],\n       [24.5 ],\n       [18.  ],\n       [43.  ],\n       [36.  ],\n       [28.  ],\n       [27.  ],\n       [20.  ],\n       [14.  ],\n       [60.  ],\n       [25.  ],\n       [14.  ],\n       [19.  ],\n       [18.  ],\n       [15.  ],\n       [31.  ],\n       [ 4.  ],\n       [28.  ],\n       [25.  ],\n       [60.  ],\n       [52.  ],\n       [44.  ],\n       [28.  ],\n       [49.  ],\n       [42.  ],\n       [18.  ],\n       [35.  ],\n       [18.  ],\n       [25.  ],\n       [26.  ],\n       [39.  ],\n       [45.  ],\n       [42.  ],\n       [22.  ],\n       [28.  ],\n       [24.  ],\n       [28.  ],\n       [48.  ],\n       [29.  ],\n       [52.  ],\n       [19.  ],\n       [38.  ],\n       [27.  ],\n       [28.  ],\n       [33.  ],\n       [ 6.  ],\n       [17.  ],\n       [34.  ],\n       [50.  ],\n       [27.  ],\n       [20.  ],\n       [30.  ],\n       [28.  ],\n       [25.  ],\n       [25.  ],\n       [29.  ],\n       [11.  ],\n       [28.  ],\n       [23.  ],\n       [23.  ],\n       [28.5 ],\n       [48.  ],\n       [35.  ],\n       [28.  ],\n       [28.  ],\n       [28.  ],\n       [36.  ],\n       [21.  ],\n       [24.  ],\n       [31.  ],\n       [70.  ],\n       [16.  ],\n       [30.  ],\n       [19.  ],\n       [31.  ],\n       [ 4.  ],\n       [ 6.  ],\n       [33.  ],\n       [23.  ],\n       [48.  ],\n       [ 0.67],\n       [28.  ],\n       [18.  ],\n       [34.  ],\n       [33.  ],\n       [28.  ],\n       [41.  ],\n       [20.  ],\n       [36.  ],\n       [16.  ],\n       [51.  ],\n       [28.  ],\n       [30.5 ],\n       [28.  ],\n       [32.  ],\n       [24.  ],\n       [48.  ],\n       [57.  ],\n       [28.  ],\n       [54.  ],\n       [18.  ],\n       [28.  ],\n       [ 5.  ],\n       [28.  ],\n       [43.  ],\n       [13.  ],\n       [17.  ],\n       [29.  ],\n       [28.  ],\n       [25.  ],\n       [25.  ],\n       [18.  ],\n       [ 8.  ],\n       [ 1.  ],\n       [46.  ],\n       [28.  ],\n       [16.  ],\n       [28.  ],\n       [28.  ],\n       [25.  ],\n       [39.  ],\n       [49.  ],\n       [31.  ],\n       [30.  ],\n       [30.  ],\n       [34.  ],\n       [31.  ],\n       [11.  ],\n       [ 0.42],\n       [27.  ],\n       [31.  ],\n       [39.  ],\n       [18.  ],\n       [39.  ],\n       [33.  ],\n       [26.  ],\n       [39.  ],\n       [35.  ],\n       [ 6.  ],\n       [30.5 ],\n       [28.  ],\n       [23.  ],\n       [31.  ],\n       [43.  ],\n       [10.  ],\n       [52.  ],\n       [27.  ],\n       [38.  ],\n       [27.  ],\n       [ 2.  ],\n       [28.  ],\n       [28.  ],\n       [ 1.  ],\n       [28.  ],\n       [62.  ],\n       [15.  ],\n       [ 0.83],\n       [28.  ],\n       [23.  ],\n       [18.  ],\n       [39.  ],\n       [21.  ],\n       [28.  ],\n       [32.  ],\n       [28.  ],\n       [20.  ],\n       [16.  ],\n       [30.  ],\n       [34.5 ],\n       [17.  ],\n       [42.  ],\n       [28.  ],\n       [35.  ],\n       [28.  ],\n       [28.  ],\n       [ 4.  ],\n       [74.  ],\n       [ 9.  ],\n       [16.  ],\n       [44.  ],\n       [18.  ],\n       [45.  ],\n       [51.  ],\n       [24.  ],\n       [28.  ],\n       [41.  ],\n       [21.  ],\n       [48.  ],\n       [28.  ],\n       [24.  ],\n       [42.  ],\n       [27.  ],\n       [31.  ],\n       [28.  ],\n       [ 4.  ],\n       [26.  ],\n       [47.  ],\n       [33.  ],\n       [47.  ],\n       [28.  ],\n       [15.  ],\n       [20.  ],\n       [19.  ],\n       [28.  ],\n       [56.  ],\n       [25.  ],\n       [33.  ],\n       [22.  ],\n       [28.  ],\n       [25.  ],\n       [39.  ],\n       [27.  ],\n       [19.  ],\n       [28.  ],\n       [26.  ],\n       [32.  ]])"
     },
     "execution_count": 19,
     "metadata": {},
     "output_type": "execute_result"
    }
   ],
   "source": [
    "X"
   ],
   "metadata": {
    "collapsed": false,
    "pycharm": {
     "name": "#%%\n"
    }
   }
  },
  {
   "cell_type": "code",
   "execution_count": 20,
   "outputs": [],
   "source": [
    "df.Age=X"
   ],
   "metadata": {
    "collapsed": false,
    "pycharm": {
     "name": "#%%\n"
    }
   }
  },
  {
   "cell_type": "markdown",
   "source": [
    "**Remove first names in Name column**"
   ],
   "metadata": {
    "collapsed": false,
    "pycharm": {
     "name": "#%% md\n"
    }
   }
  },
  {
   "cell_type": "code",
   "execution_count": 21,
   "outputs": [],
   "source": [
    "df_names=df[[\"Name\"]]"
   ],
   "metadata": {
    "collapsed": false,
    "pycharm": {
     "name": "#%%\n"
    }
   }
  },
  {
   "cell_type": "code",
   "execution_count": 22,
   "outputs": [],
   "source": [
    "df_names=df_names.apply(lambda element: element.Name.split(\",\")[0],axis=1)"
   ],
   "metadata": {
    "collapsed": false,
    "pycharm": {
     "name": "#%%\n"
    }
   }
  },
  {
   "cell_type": "code",
   "execution_count": 23,
   "outputs": [],
   "source": [
    "df.Name=df_names"
   ],
   "metadata": {
    "collapsed": false,
    "pycharm": {
     "name": "#%%\n"
    }
   }
  },
  {
   "cell_type": "code",
   "execution_count": 24,
   "outputs": [
    {
     "data": {
      "text/plain": "     Survived  Pclass       Name     Sex   Age  SibSp  Parch  \\\n0           0       3     Braund    male  22.0      1      0   \n1           1       1    Cumings  female  38.0      1      0   \n2           1       3  Heikkinen  female  26.0      0      0   \n3           1       1   Futrelle  female  35.0      1      0   \n4           0       3      Allen    male  35.0      0      0   \n..        ...     ...        ...     ...   ...    ...    ...   \n886         0       2   Montvila    male  27.0      0      0   \n887         1       1     Graham  female  19.0      0      0   \n888         0       3   Johnston  female  28.0      1      2   \n889         1       1       Behr    male  26.0      0      0   \n890         0       3     Dooley    male  32.0      0      0   \n\n               Ticket     Fare Cabin Embarked  \n0           A/5 21171   7.2500   NaN        S  \n1            PC 17599  71.2833   C85        C  \n2    STON/O2. 3101282   7.9250   NaN        S  \n3              113803  53.1000  C123        S  \n4              373450   8.0500   NaN        S  \n..                ...      ...   ...      ...  \n886            211536  13.0000   NaN        S  \n887            112053  30.0000   B42        S  \n888        W./C. 6607  23.4500   NaN        S  \n889            111369  30.0000  C148        C  \n890            370376   7.7500   NaN        Q  \n\n[891 rows x 11 columns]",
      "text/html": "<div>\n<style scoped>\n    .dataframe tbody tr th:only-of-type {\n        vertical-align: middle;\n    }\n\n    .dataframe tbody tr th {\n        vertical-align: top;\n    }\n\n    .dataframe thead th {\n        text-align: right;\n    }\n</style>\n<table border=\"1\" class=\"dataframe\">\n  <thead>\n    <tr style=\"text-align: right;\">\n      <th></th>\n      <th>Survived</th>\n      <th>Pclass</th>\n      <th>Name</th>\n      <th>Sex</th>\n      <th>Age</th>\n      <th>SibSp</th>\n      <th>Parch</th>\n      <th>Ticket</th>\n      <th>Fare</th>\n      <th>Cabin</th>\n      <th>Embarked</th>\n    </tr>\n  </thead>\n  <tbody>\n    <tr>\n      <th>0</th>\n      <td>0</td>\n      <td>3</td>\n      <td>Braund</td>\n      <td>male</td>\n      <td>22.0</td>\n      <td>1</td>\n      <td>0</td>\n      <td>A/5 21171</td>\n      <td>7.2500</td>\n      <td>NaN</td>\n      <td>S</td>\n    </tr>\n    <tr>\n      <th>1</th>\n      <td>1</td>\n      <td>1</td>\n      <td>Cumings</td>\n      <td>female</td>\n      <td>38.0</td>\n      <td>1</td>\n      <td>0</td>\n      <td>PC 17599</td>\n      <td>71.2833</td>\n      <td>C85</td>\n      <td>C</td>\n    </tr>\n    <tr>\n      <th>2</th>\n      <td>1</td>\n      <td>3</td>\n      <td>Heikkinen</td>\n      <td>female</td>\n      <td>26.0</td>\n      <td>0</td>\n      <td>0</td>\n      <td>STON/O2. 3101282</td>\n      <td>7.9250</td>\n      <td>NaN</td>\n      <td>S</td>\n    </tr>\n    <tr>\n      <th>3</th>\n      <td>1</td>\n      <td>1</td>\n      <td>Futrelle</td>\n      <td>female</td>\n      <td>35.0</td>\n      <td>1</td>\n      <td>0</td>\n      <td>113803</td>\n      <td>53.1000</td>\n      <td>C123</td>\n      <td>S</td>\n    </tr>\n    <tr>\n      <th>4</th>\n      <td>0</td>\n      <td>3</td>\n      <td>Allen</td>\n      <td>male</td>\n      <td>35.0</td>\n      <td>0</td>\n      <td>0</td>\n      <td>373450</td>\n      <td>8.0500</td>\n      <td>NaN</td>\n      <td>S</td>\n    </tr>\n    <tr>\n      <th>...</th>\n      <td>...</td>\n      <td>...</td>\n      <td>...</td>\n      <td>...</td>\n      <td>...</td>\n      <td>...</td>\n      <td>...</td>\n      <td>...</td>\n      <td>...</td>\n      <td>...</td>\n      <td>...</td>\n    </tr>\n    <tr>\n      <th>886</th>\n      <td>0</td>\n      <td>2</td>\n      <td>Montvila</td>\n      <td>male</td>\n      <td>27.0</td>\n      <td>0</td>\n      <td>0</td>\n      <td>211536</td>\n      <td>13.0000</td>\n      <td>NaN</td>\n      <td>S</td>\n    </tr>\n    <tr>\n      <th>887</th>\n      <td>1</td>\n      <td>1</td>\n      <td>Graham</td>\n      <td>female</td>\n      <td>19.0</td>\n      <td>0</td>\n      <td>0</td>\n      <td>112053</td>\n      <td>30.0000</td>\n      <td>B42</td>\n      <td>S</td>\n    </tr>\n    <tr>\n      <th>888</th>\n      <td>0</td>\n      <td>3</td>\n      <td>Johnston</td>\n      <td>female</td>\n      <td>28.0</td>\n      <td>1</td>\n      <td>2</td>\n      <td>W./C. 6607</td>\n      <td>23.4500</td>\n      <td>NaN</td>\n      <td>S</td>\n    </tr>\n    <tr>\n      <th>889</th>\n      <td>1</td>\n      <td>1</td>\n      <td>Behr</td>\n      <td>male</td>\n      <td>26.0</td>\n      <td>0</td>\n      <td>0</td>\n      <td>111369</td>\n      <td>30.0000</td>\n      <td>C148</td>\n      <td>C</td>\n    </tr>\n    <tr>\n      <th>890</th>\n      <td>0</td>\n      <td>3</td>\n      <td>Dooley</td>\n      <td>male</td>\n      <td>32.0</td>\n      <td>0</td>\n      <td>0</td>\n      <td>370376</td>\n      <td>7.7500</td>\n      <td>NaN</td>\n      <td>Q</td>\n    </tr>\n  </tbody>\n</table>\n<p>891 rows × 11 columns</p>\n</div>"
     },
     "execution_count": 24,
     "metadata": {},
     "output_type": "execute_result"
    }
   ],
   "source": [
    "df"
   ],
   "metadata": {
    "collapsed": false,
    "pycharm": {
     "name": "#%%\n"
    }
   }
  },
  {
   "cell_type": "code",
   "execution_count": 25,
   "outputs": [
    {
     "data": {
      "text/plain": "array([[0, 3, 'Braund', ..., 7.25, nan, 'S'],\n       [1, 1, 'Cumings', ..., 71.2833, 'C85', 'C'],\n       [1, 3, 'Heikkinen', ..., 7.925, nan, 'S'],\n       ...,\n       [0, 3, 'Johnston', ..., 23.45, nan, 'S'],\n       [1, 1, 'Behr', ..., 30.0, 'C148', 'C'],\n       [0, 3, 'Dooley', ..., 7.75, nan, 'Q']], dtype=object)"
     },
     "execution_count": 25,
     "metadata": {},
     "output_type": "execute_result"
    }
   ],
   "source": [
    "from sklearn.base import BaseEstimator, TransformerMixin\n",
    "\n",
    "class RemoveFirstNameTrans(BaseEstimator, TransformerMixin):\n",
    "    def fit(self, X, y=None):\n",
    "        return self  # nothing else to do\n",
    "    def transform(self, X, y=None):\n",
    "        for el in X[:,2]:\n",
    "            el=el.split(\",\")[0]\n",
    "        return X\n",
    "trans=RemoveFirstNameTrans()\n",
    "trans.transform(df.values)"
   ],
   "metadata": {
    "collapsed": false,
    "pycharm": {
     "name": "#%%\n"
    }
   }
  },
  {
   "cell_type": "code",
   "execution_count": 26,
   "outputs": [],
   "source": [
    "copy=df.copy()\n",
    "vv=copy.values[:,3]"
   ],
   "metadata": {
    "collapsed": false,
    "pycharm": {
     "name": "#%%\n"
    }
   }
  },
  {
   "cell_type": "code",
   "execution_count": 44,
   "outputs": [
    {
     "data": {
      "text/plain": "array(['male', 'female', 'female', 'female', 'male', 'male', 'male',\n       'male', 'female', 'female', 'female', 'female', 'male', 'male',\n       'female', 'female', 'male', 'male', 'female', 'female', 'male',\n       'male', 'female', 'male', 'female', 'female', 'male', 'male',\n       'female', 'male', 'male', 'female', 'female', 'male', 'male',\n       'male', 'male', 'male', 'female', 'female', 'female', 'female',\n       'male', 'female', 'female', 'male', 'male', 'female', 'male',\n       'female', 'male', 'male', 'female', 'female', 'male', 'male',\n       'female', 'male', 'female', 'male', 'male', 'female', 'male',\n       'male', 'male', 'male', 'female', 'male', 'female', 'male', 'male',\n       'female', 'male', 'male', 'male', 'male', 'male', 'male', 'male',\n       'female', 'male', 'male', 'female', 'male', 'female', 'female',\n       'male', 'male', 'female', 'male', 'male', 'male', 'male', 'male',\n       'male', 'male', 'male', 'male', 'female', 'male', 'female', 'male',\n       'male', 'male', 'male', 'male', 'female', 'male', 'male', 'female',\n       'male', 'female', 'male', 'female', 'female', 'male', 'male',\n       'male', 'male', 'female', 'male', 'male', 'male', 'female', 'male',\n       'male', 'male', 'male', 'female', 'male', 'male', 'male', 'female',\n       'female', 'male', 'male', 'female', 'male', 'male', 'male',\n       'female', 'female', 'female', 'male', 'male', 'male', 'male',\n       'female', 'male', 'male', 'male', 'female', 'male', 'male', 'male',\n       'male', 'female', 'male', 'male', 'male', 'male', 'female', 'male',\n       'male', 'male', 'male', 'female', 'female', 'male', 'male', 'male',\n       'male', 'female', 'male', 'male', 'male', 'male', 'female', 'male',\n       'male', 'female', 'male', 'male', 'male', 'female', 'male',\n       'female', 'male', 'male', 'male', 'female', 'male', 'female',\n       'male', 'female', 'female', 'male', 'male', 'female', 'female',\n       'male', 'male', 'male', 'male', 'male', 'female', 'male', 'male',\n       'female', 'male', 'male', 'female', 'male', 'male', 'male',\n       'female', 'female', 'male', 'female', 'male', 'male', 'male',\n       'male', 'male', 'male', 'male', 'male', 'male', 'male', 'female',\n       'female', 'male', 'male', 'female', 'male', 'female', 'male',\n       'female', 'male', 'male', 'female', 'female', 'male', 'male',\n       'male', 'male', 'female', 'female', 'male', 'male', 'male',\n       'female', 'male', 'male', 'female', 'female', 'female', 'female',\n       'female', 'female', 'male', 'male', 'male', 'male', 'female',\n       'male', 'male', 'male', 'female', 'female', 'male', 'male',\n       'female', 'male', 'female', 'female', 'female', 'male', 'male',\n       'female', 'male', 'male', 'male', 'male', 'male', 'male', 'male',\n       'male', 'male', 'female', 'female', 'female', 'male', 'female',\n       'male', 'male', 'male', 'female', 'male', 'female', 'female',\n       'male', 'male', 'female', 'male', 'male', 'female', 'female',\n       'male', 'female', 'female', 'female', 'female', 'male', 'male',\n       'female', 'female', 'male', 'female', 'female', 'male', 'male',\n       'female', 'female', 'male', 'female', 'male', 'female', 'female',\n       'female', 'female', 'male', 'male', 'male', 'female', 'male',\n       'male', 'female', 'male', 'male', 'male', 'female', 'male', 'male',\n       'male', 'female', 'female', 'female', 'male', 'male', 'male',\n       'male', 'male', 'male', 'male', 'male', 'female', 'female',\n       'female', 'female', 'male', 'male', 'female', 'male', 'male',\n       'male', 'female', 'female', 'female', 'female', 'male', 'male',\n       'male', 'male', 'female', 'female', 'female', 'male', 'male',\n       'male', 'female', 'female', 'male', 'female', 'male', 'male',\n       'male', 'female', 'male', 'female', 'male', 'male', 'male',\n       'female', 'female', 'male', 'female', 'male', 'male', 'female',\n       'male', 'male', 'female', 'male', 'female', 'male', 'male', 'male',\n       'male', 'female', 'male', 'male', 'female', 'male', 'male',\n       'female', 'female', 'female', 'male', 'female', 'male', 'male',\n       'male', 'female', 'male', 'male', 'female', 'female', 'male',\n       'male', 'male', 'female', 'female', 'male', 'male', 'female',\n       'female', 'female', 'male', 'male', 'female', 'male', 'male',\n       'female', 'male', 'male', 'female', 'male', 'female', 'male',\n       'male', 'male', 'male', 'male', 'male', 'male', 'male', 'female',\n       'female', 'male', 'male', 'male', 'male', 'male', 'male', 'male',\n       'male', 'male', 'male', 'female', 'male', 'male', 'female',\n       'female', 'female', 'male', 'male', 'male', 'male', 'female',\n       'male', 'male', 'male', 'female', 'male', 'female', 'female',\n       'male', 'male', 'male', 'male', 'male', 'male', 'male', 'male',\n       'male', 'female', 'male', 'female', 'male', 'male', 'female',\n       'female', 'female', 'female', 'male', 'female', 'male', 'male',\n       'male', 'male', 'male', 'male', 'female', 'male', 'male', 'female',\n       'male', 'female', 'male', 'female', 'male', 'male', 'female',\n       'male', 'male', 'female', 'male', 'male', 'male', 'female', 'male',\n       'male', 'female', 'female', 'female', 'male', 'female', 'male',\n       'female', 'female', 'female', 'female', 'male', 'male', 'male',\n       'female', 'male', 'male', 'male', 'male', 'male', 'male', 'male',\n       'female', 'male', 'female', 'male', 'female', 'female', 'male',\n       'male', 'male', 'male', 'female', 'male', 'male', 'female', 'male',\n       'male', 'male', 'female', 'male', 'female', 'male', 'male',\n       'female', 'female', 'female', 'male', 'female', 'female', 'male',\n       'male', 'male', 'female', 'male', 'male', 'male', 'male', 'male',\n       'female', 'male', 'female', 'male', 'male', 'female', 'male',\n       'male', 'male', 'female', 'male', 'male', 'male', 'male', 'male',\n       'male', 'male', 'female', 'female', 'female', 'male', 'female',\n       'male', 'male', 'female', 'male', 'female', 'female', 'male',\n       'male', 'male', 'male', 'male', 'male', 'male', 'male', 'female',\n       'male', 'male', 'male', 'male', 'male', 'male', 'female', 'female',\n       'male', 'male', 'female', 'male', 'male', 'female', 'female',\n       'male', 'female', 'male', 'male', 'male', 'male', 'female', 'male',\n       'female', 'male', 'female', 'female', 'male', 'male', 'female',\n       'male', 'male', 'male', 'male', 'male', 'male', 'male', 'male',\n       'male', 'male', 'male', 'female', 'female', 'male', 'male', 'male',\n       'male', 'male', 'male', 'female', 'female', 'male', 'female',\n       'male', 'male', 'male', 'male', 'male', 'male', 'male', 'male',\n       'female', 'male', 'female', 'male', 'male', 'male', 'male', 'male',\n       'female', 'male', 'male', 'female', 'male', 'female', 'male',\n       'male', 'male', 'female', 'male', 'female', 'male', 'female',\n       'male', 'male', 'male', 'male', 'male', 'female', 'female', 'male',\n       'male', 'female', 'male', 'male', 'male', 'male', 'male', 'female',\n       'female', 'male', 'female', 'female', 'male', 'male', 'male',\n       'male', 'male', 'female', 'male', 'male', 'male', 'male', 'male',\n       'female', 'male', 'male', 'male', 'male', 'female', 'male', 'male',\n       'female', 'male', 'male', 'male', 'female', 'male', 'male', 'male',\n       'male', 'female', 'male', 'male', 'male', 'female', 'male',\n       'female', 'male', 'female', 'male', 'male', 'male', 'male',\n       'female', 'male', 'female', 'male', 'male', 'female', 'male',\n       'female', 'female', 'female', 'male', 'male', 'male', 'male',\n       'female', 'male', 'male', 'male', 'male', 'male', 'female', 'male',\n       'male', 'male', 'female', 'female', 'male', 'female', 'male',\n       'female', 'male', 'male', 'male', 'male', 'male', 'female', 'male',\n       'female', 'male', 'male', 'male', 'female', 'male', 'male',\n       'female', 'male', 'male', 'male', 'female', 'male', 'male',\n       'female', 'male', 'male', 'male', 'male', 'male', 'female',\n       'female', 'male', 'male', 'male', 'male', 'female', 'male', 'male',\n       'male', 'male', 'male', 'male', 'female', 'male', 'male', 'male',\n       'male', 'male', 'male', 'female', 'male', 'male', 'female',\n       'female', 'female', 'female', 'female', 'male', 'female', 'male',\n       'male', 'male', 'female', 'female', 'male', 'female', 'female',\n       'male', 'male', 'male', 'male', 'female', 'male', 'male', 'female',\n       'female', 'male', 'male', 'male', 'female', 'female', 'male',\n       'female', 'male', 'male', 'female', 'male', 'female', 'female',\n       'male', 'male'], dtype=object)"
     },
     "execution_count": 44,
     "metadata": {},
     "output_type": "execute_result"
    }
   ],
   "source": [
    "vv"
   ],
   "metadata": {
    "collapsed": false,
    "pycharm": {
     "name": "#%%\n"
    }
   }
  },
  {
   "cell_type": "markdown",
   "source": [
    "**One hot encoder**"
   ],
   "metadata": {
    "collapsed": false,
    "pycharm": {
     "name": "#%% md\n"
    }
   }
  },
  {
   "cell_type": "code",
   "execution_count": 28,
   "outputs": [],
   "source": [
    "from sklearn.preprocessing import OneHotEncoder\n",
    "hot_incoder=OneHotEncoder()\n",
    "df_temp=df[[\"Name\",\"Embarked\"]]\n",
    "df_oneHot=hot_incoder.fit_transform(df_temp)"
   ],
   "metadata": {
    "collapsed": false,
    "pycharm": {
     "name": "#%%\n"
    }
   }
  },
  {
   "cell_type": "code",
   "execution_count": 29,
   "outputs": [],
   "source": [
    "df_oneHot=pd.DataFrame(df_oneHot)"
   ],
   "metadata": {
    "collapsed": false,
    "pycharm": {
     "name": "#%%\n"
    }
   }
  },
  {
   "cell_type": "code",
   "execution_count": 30,
   "outputs": [
    {
     "name": "stdout",
     "output_type": "stream",
     "text": [
      "                                    0\n",
      "0       (0, 73)\\t1.0\\n  (0, 669)\\t1.0\n",
      "1      (0, 136)\\t1.0\\n  (0, 667)\\t1.0\n",
      "2      (0, 251)\\t1.0\\n  (0, 669)\\t1.0\n",
      "3      (0, 198)\\t1.0\\n  (0, 669)\\t1.0\n",
      "4       (0, 11)\\t1.0\\n  (0, 669)\\t1.0\n",
      "..                                ...\n",
      "886    (0, 406)\\t1.0\\n  (0, 669)\\t1.0\n",
      "887    (0, 221)\\t1.0\\n  (0, 669)\\t1.0\n",
      "888    (0, 293)\\t1.0\\n  (0, 669)\\t1.0\n",
      "889     (0, 52)\\t1.0\\n  (0, 667)\\t1.0\n",
      "890    (0, 159)\\t1.0\\n  (0, 668)\\t1.0\n",
      "\n",
      "[891 rows x 1 columns]\n"
     ]
    }
   ],
   "source": [
    "print(df_oneHot)"
   ],
   "metadata": {
    "collapsed": false,
    "pycharm": {
     "name": "#%%\n"
    }
   }
  },
  {
   "cell_type": "code",
   "execution_count": 31,
   "outputs": [
    {
     "data": {
      "text/plain": "array([[0, 3, 'Braund', ..., nan, 'S', 1],\n       [1, 1, 'Cumings', ..., 'C85', 'C', 1],\n       [1, 3, 'Heikkinen', ..., nan, 'S', 0],\n       ...,\n       [0, 3, 'Johnston', ..., nan, 'S', 3],\n       [1, 1, 'Behr', ..., 'C148', 'C', 0],\n       [0, 3, 'Dooley', ..., nan, 'Q', 0]], dtype=object)"
     },
     "execution_count": 31,
     "metadata": {},
     "output_type": "execute_result"
    }
   ],
   "source": [
    "np.c_[df,df.values[:,5]+df.values[:,6]]"
   ],
   "metadata": {
    "collapsed": false,
    "pycharm": {
     "name": "#%%\n"
    }
   }
  },
  {
   "cell_type": "markdown",
   "source": [
    "**Scaling**"
   ],
   "metadata": {
    "collapsed": false,
    "pycharm": {
     "name": "#%% md\n"
    }
   }
  },
  {
   "cell_type": "code",
   "execution_count": 32,
   "outputs": [
    {
     "data": {
      "text/plain": "array([[<AxesSubplot:title={'center':'Age'}>,\n        <AxesSubplot:title={'center':'Fare'}>]], dtype=object)"
     },
     "execution_count": 32,
     "metadata": {},
     "output_type": "execute_result"
    },
    {
     "data": {
      "text/plain": "<Figure size 432x288 with 2 Axes>",
      "image/png": "[encoded data removed]"
     },
     "metadata": {
      "needs_background": "light"
     },
     "output_type": "display_data"
    }
   ],
   "source": [
    "df[[\"Age\",\"Fare\"]].hist()"
   ],
   "metadata": {
    "collapsed": false,
    "pycharm": {
     "name": "#%%\n"
    }
   }
  },
  {
   "cell_type": "code",
   "execution_count": 33,
   "outputs": [
    {
     "data": {
      "text/plain": "<Figure size 432x288 with 1 Axes>",
      "image/png": "[encoded data removed]"
     },
     "metadata": {
      "needs_background": "light"
     },
     "output_type": "display_data"
    }
   ],
   "source": [
    "from sklearn.preprocessing import StandardScaler\n",
    "standard_scaler=StandardScaler()\n",
    "standard=standard_scaler.fit_transform(df[[\"Age\",\"Fare\"]])\n",
    "plt.hist(standard)\n",
    "plt.show()"
   ],
   "metadata": {
    "collapsed": false,
    "pycharm": {
     "name": "#%%\n"
    }
   }
  },
  {
   "cell_type": "code",
   "execution_count": 34,
   "outputs": [],
   "source": [
    "from sklearn.compose import ColumnTransformer\n",
    "from sklearn.pipeline import Pipeline\n",
    "from sklearn.preprocessing import OrdinalEncoder\n",
    "\n",
    "\n",
    "final_pieline=ColumnTransformer([\n",
    "    (\"Age\",SimpleImputer(strategy='median'),[\"Age\",\"Cabin\",\"Ticket\"]),\n",
    "    (\"Num\",StandardScaler(),[\"Fare\"]),\n",
    "    (\"Cat\",OneHotEncoder(categories='auto'),[\"Name\",\"Embarked\",\"sub-Cabin\",\"sub-Ticket\"]),\n",
    "    ],\n",
    "    remainder='passthrough')"
   ],
   "metadata": {
    "collapsed": false,
    "pycharm": {
     "name": "#%%\n"
    }
   }
  },
  {
   "cell_type": "code",
   "execution_count": 46,
   "outputs": [],
   "source": [
    "def transform(dataframe):\n",
    "    copyd=dataframe.copy()\n",
    "    copyd.pop(\"PassengerId\")\n",
    "    y=copyd.pop(\"Survived\").astype(\"bool\")\n",
    "    copyd.Name=copyd[[\"Name\"]].apply(lambda element: element.Name.split(\",\")[0],axis=1)\n",
    "    copyd[\"sub-Ticket\"] = copyd[\"Ticket\"].apply(split_fnc)\n",
    "    copyd[\"Ticket\"]=copyd[\"Ticket\"].apply(lambda x:x.split(\" \")[-1] if x.split(\" \")[-1].isnumeric() else np.nan)\n",
    "    copyd[\"sub-Cabin\"] = copyd[\"Cabin\"].apply(split_cabin)\n",
    "    copyd[\"Cabin\"] = copyd[\"Cabin\"].apply(count_cabin)\n",
    "    copyd[\"Ticket\"] = copyd[\"Ticket\"].astype('float')\n",
    "    copyd[\"Cabin\"] = copyd[\"Cabin\"].astype('float')\n",
    "    for col in \"Name\",\"Embarked\",\"Sex\",\"sub-Cabin\",\"sub-Ticket\":\n",
    "        copyd[col] = copyd[col].astype('category')\n",
    "        copyd[col] = copyd[col].cat.codes.astype('category')\n",
    "    X=final_pieline.fit_transform(copyd)\n",
    "    return X,y"
   ],
   "metadata": {
    "collapsed": false,
    "pycharm": {
     "name": "#%%\n"
    }
   }
  },
  {
   "cell_type": "code",
   "execution_count": 47,
   "outputs": [],
   "source": [
    "copy=df.copy()\n",
    "copy[\"sub-Ticket\"] = copy[\"Ticket\"].apply(split_fnc)\n",
    "copy[\"Ticket\"]=copy[\"Ticket\"].apply(lambda x:x.split(\" \")[-1] if x.split(\" \")[-1].isnumeric() else np.nan)\n",
    "copy[\"Ticket\"] = copy[\"Ticket\"].astype('float')"
   ],
   "metadata": {
    "collapsed": false,
    "pycharm": {
     "name": "#%%\n"
    }
   }
  },
  {
   "cell_type": "code",
   "execution_count": 51,
   "outputs": [
    {
     "data": {
      "text/plain": "     PassengerId  Survived  Pclass  \\\n0              1         0       3   \n1              2         1       1   \n2              3         1       3   \n3              4         1       1   \n4              5         0       3   \n..           ...       ...     ...   \n886          887         0       2   \n887          888         1       1   \n888          889         0       3   \n889          890         1       1   \n890          891         0       3   \n\n                                                  Name     Sex   Age  SibSp  \\\n0                              Braund, Mr. Owen Harris    male  22.0      1   \n1    Cumings, Mrs. John Bradley (Florence Briggs Th...  female  38.0      1   \n2                               Heikkinen, Miss. Laina  female  26.0      0   \n3         Futrelle, Mrs. Jacques Heath (Lily May Peel)  female  35.0      1   \n4                             Allen, Mr. William Henry    male  35.0      0   \n..                                                 ...     ...   ...    ...   \n886                              Montvila, Rev. Juozas    male  27.0      0   \n887                       Graham, Miss. Margaret Edith  female  19.0      0   \n888           Johnston, Miss. Catherine Helen \"Carrie\"  female   NaN      1   \n889                              Behr, Mr. Karl Howell    male  26.0      0   \n890                                Dooley, Mr. Patrick    male  32.0      0   \n\n     Parch            Ticket     Fare Cabin Embarked  \n0        0         A/5 21171   7.2500   NaN        S  \n1        0          PC 17599  71.2833   C85        C  \n2        0  STON/O2. 3101282   7.9250   NaN        S  \n3        0            113803  53.1000  C123        S  \n4        0            373450   8.0500   NaN        S  \n..     ...               ...      ...   ...      ...  \n886      0            211536  13.0000   NaN        S  \n887      0            112053  30.0000   B42        S  \n888      2        W./C. 6607  23.4500   NaN        S  \n889      0            111369  30.0000  C148        C  \n890      0            370376   7.7500   NaN        Q  \n\n[891 rows x 12 columns]",
      "text/html": "<div>\n<style scoped>\n    .dataframe tbody tr th:only-of-type {\n        vertical-align: middle;\n    }\n\n    .dataframe tbody tr th {\n        vertical-align: top;\n    }\n\n    .dataframe thead th {\n        text-align: right;\n    }\n</style>\n<table border=\"1\" class=\"dataframe\">\n  <thead>\n    <tr style=\"text-align: right;\">\n      <th></th>\n      <th>PassengerId</th>\n      <th>Survived</th>\n      <th>Pclass</th>\n      <th>Name</th>\n      <th>Sex</th>\n      <th>Age</th>\n      <th>SibSp</th>\n      <th>Parch</th>\n      <th>Ticket</th>\n      <th>Fare</th>\n      <th>Cabin</th>\n      <th>Embarked</th>\n    </tr>\n  </thead>\n  <tbody>\n    <tr>\n      <th>0</th>\n      <td>1</td>\n      <td>0</td>\n      <td>3</td>\n      <td>Braund, Mr. Owen Harris</td>\n      <td>male</td>\n      <td>22.0</td>\n      <td>1</td>\n      <td>0</td>\n      <td>A/5 21171</td>\n      <td>7.2500</td>\n      <td>NaN</td>\n      <td>S</td>\n    </tr>\n    <tr>\n      <th>1</th>\n      <td>2</td>\n      <td>1</td>\n      <td>1</td>\n      <td>Cumings, Mrs. John Bradley (Florence Briggs Th...</td>\n      <td>female</td>\n      <td>38.0</td>\n      <td>1</td>\n      <td>0</td>\n      <td>PC 17599</td>\n      <td>71.2833</td>\n      <td>C85</td>\n      <td>C</td>\n    </tr>\n    <tr>\n      <th>2</th>\n      <td>3</td>\n      <td>1</td>\n      <td>3</td>\n      <td>Heikkinen, Miss. Laina</td>\n      <td>female</td>\n      <td>26.0</td>\n      <td>0</td>\n      <td>0</td>\n      <td>STON/O2. 3101282</td>\n      <td>7.9250</td>\n      <td>NaN</td>\n      <td>S</td>\n    </tr>\n    <tr>\n      <th>3</th>\n      <td>4</td>\n      <td>1</td>\n      <td>1</td>\n      <td>Futrelle, Mrs. Jacques Heath (Lily May Peel)</td>\n      <td>female</td>\n      <td>35.0</td>\n      <td>1</td>\n      <td>0</td>\n      <td>113803</td>\n      <td>53.1000</td>\n      <td>C123</td>\n      <td>S</td>\n    </tr>\n    <tr>\n      <th>4</th>\n      <td>5</td>\n      <td>0</td>\n      <td>3</td>\n      <td>Allen, Mr. William Henry</td>\n      <td>male</td>\n      <td>35.0</td>\n      <td>0</td>\n      <td>0</td>\n      <td>373450</td>\n      <td>8.0500</td>\n      <td>NaN</td>\n      <td>S</td>\n    </tr>\n    <tr>\n      <th>...</th>\n      <td>...</td>\n      <td>...</td>\n      <td>...</td>\n      <td>...</td>\n      <td>...</td>\n      <td>...</td>\n      <td>...</td>\n      <td>...</td>\n      <td>...</td>\n      <td>...</td>\n      <td>...</td>\n      <td>...</td>\n    </tr>\n    <tr>\n      <th>886</th>\n      <td>887</td>\n      <td>0</td>\n      <td>2</td>\n      <td>Montvila, Rev. Juozas</td>\n      <td>male</td>\n      <td>27.0</td>\n      <td>0</td>\n      <td>0</td>\n      <td>211536</td>\n      <td>13.0000</td>\n      <td>NaN</td>\n      <td>S</td>\n    </tr>\n    <tr>\n      <th>887</th>\n      <td>888</td>\n      <td>1</td>\n      <td>1</td>\n      <td>Graham, Miss. Margaret Edith</td>\n      <td>female</td>\n      <td>19.0</td>\n      <td>0</td>\n      <td>0</td>\n      <td>112053</td>\n      <td>30.0000</td>\n      <td>B42</td>\n      <td>S</td>\n    </tr>\n    <tr>\n      <th>888</th>\n      <td>889</td>\n      <td>0</td>\n      <td>3</td>\n      <td>Johnston, Miss. Catherine Helen \"Carrie\"</td>\n      <td>female</td>\n      <td>NaN</td>\n      <td>1</td>\n      <td>2</td>\n      <td>W./C. 6607</td>\n      <td>23.4500</td>\n      <td>NaN</td>\n      <td>S</td>\n    </tr>\n    <tr>\n      <th>889</th>\n      <td>890</td>\n      <td>1</td>\n      <td>1</td>\n      <td>Behr, Mr. Karl Howell</td>\n      <td>male</td>\n      <td>26.0</td>\n      <td>0</td>\n      <td>0</td>\n      <td>111369</td>\n      <td>30.0000</td>\n      <td>C148</td>\n      <td>C</td>\n    </tr>\n    <tr>\n      <th>890</th>\n      <td>891</td>\n      <td>0</td>\n      <td>3</td>\n      <td>Dooley, Mr. Patrick</td>\n      <td>male</td>\n      <td>32.0</td>\n      <td>0</td>\n      <td>0</td>\n      <td>370376</td>\n      <td>7.7500</td>\n      <td>NaN</td>\n      <td>Q</td>\n    </tr>\n  </tbody>\n</table>\n<p>891 rows × 12 columns</p>\n</div>"
     },
     "execution_count": 51,
     "metadata": {},
     "output_type": "execute_result"
    }
   ],
   "source": [
    "df"
   ],
   "metadata": {
    "collapsed": false,
    "pycharm": {
     "name": "#%%\n"
    }
   }
  },
  {
   "cell_type": "code",
   "execution_count": 52,
   "outputs": [],
   "source": [
    "X,y=transform(df)"
   ],
   "metadata": {
    "collapsed": false,
    "pycharm": {
     "name": "#%%\n"
    }
   }
  },
  {
   "cell_type": "code",
   "execution_count": 53,
   "outputs": [
    {
     "data": {
      "text/plain": "0      False\n1       True\n2       True\n3       True\n4      False\n       ...  \n886    False\n887     True\n888    False\n889     True\n890    False\nName: Survived, Length: 891, dtype: bool"
     },
     "execution_count": 53,
     "metadata": {},
     "output_type": "execute_result"
    }
   ],
   "source": [
    "y"
   ],
   "metadata": {
    "collapsed": false,
    "pycharm": {
     "name": "#%%\n"
    }
   }
  },
  {
   "cell_type": "code",
   "execution_count": 54,
   "outputs": [],
   "source": [
    "from sklearn.ensemble import RandomForestClassifier\n",
    "classifier=RandomForestClassifier()"
   ],
   "metadata": {
    "collapsed": false,
    "pycharm": {
     "name": "#%%\n"
    }
   }
  },
  {
   "cell_type": "code",
   "execution_count": 55,
   "outputs": [],
   "source": [
    "from sklearn.model_selection import cross_val_predict\n",
    "y_pred=cross_val_predict(classifier,X,y,cv=5)"
   ],
   "metadata": {
    "collapsed": false,
    "pycharm": {
     "name": "#%%\n"
    }
   }
  },
  {
   "cell_type": "code",
   "execution_count": 56,
   "outputs": [
    {
     "data": {
      "text/plain": "0.8321917808219178"
     },
     "execution_count": 56,
     "metadata": {},
     "output_type": "execute_result"
    }
   ],
   "source": [
    "from sklearn.metrics import precision_score\n",
    "\n",
    "precision_score(y, y_pred)"
   ],
   "metadata": {
    "collapsed": false,
    "pycharm": {
     "name": "#%%\n"
    }
   }
  },
  {
   "cell_type": "code",
   "execution_count": 57,
   "outputs": [
    {
     "data": {
      "text/plain": "0.7105263157894737"
     },
     "execution_count": 57,
     "metadata": {},
     "output_type": "execute_result"
    }
   ],
   "source": [
    "from sklearn.metrics import recall_score\n",
    "\n",
    "recall_score(y, y_pred)"
   ],
   "metadata": {
    "collapsed": false,
    "pycharm": {
     "name": "#%%\n"
    }
   }
  },
  {
   "cell_type": "code",
   "execution_count": 58,
   "outputs": [],
   "source": [
    "n_estimators=[350,360,370,380,390]\n",
    "max_features=[\"auto\"]\n",
    "min_samples_split=[2]\n",
    "min_samples_leaf=[1]\n",
    "bootstrap=[True]"
   ],
   "metadata": {
    "collapsed": false,
    "pycharm": {
     "name": "#%%\n"
    }
   }
  },
  {
   "cell_type": "code",
   "execution_count": 60,
   "outputs": [],
   "source": [
    "from sklearn.model_selection import GridSearchCV\n",
    "rf_grid=GridSearchCV(estimator=classifier,param_grid={\"n_estimators\":n_estimators,\n",
    "                                                      \"max_features\":max_features,\n",
    "                                                      \"min_samples_split\":min_samples_split,\n",
    "                                                      \"min_samples_leaf\":min_samples_leaf,\n",
    "                                                      \"bootstrap\":bootstrap},cv=3)"
   ],
   "metadata": {
    "collapsed": false,
    "pycharm": {
     "name": "#%%\n"
    }
   }
  },
  {
   "cell_type": "code",
   "execution_count": 59,
   "outputs": [],
   "source": [
    "rf_grid.fit(X,y)"
   ],
   "metadata": {
    "collapsed": false,
    "pycharm": {
     "name": "#%%\n"
    }
   }
  },
  {
   "cell_type": "code",
   "execution_count": 61,
   "outputs": [],
   "source": [
    "rf_grid.best_params_"
   ],
   "metadata": {
    "collapsed": false,
    "pycharm": {
     "name": "#%%\n"
    }
   }
  },
  {
   "cell_type": "code",
   "execution_count": 62,
   "outputs": [],
   "source": [
    "rf_class=RandomForestClassifier(bootstrap=True,max_features=\"auto\",n_estimators=400)"
   ],
   "metadata": {
    "collapsed": false,
    "pycharm": {
     "name": "#%%\n"
    }
   }
  },
  {
   "cell_type": "code",
   "execution_count": 63,
   "outputs": [],
   "source": [
    "y_pred_amel=cross_val_predict(rf_class,X,y,cv=5)"
   ],
   "metadata": {
    "collapsed": false,
    "pycharm": {
     "name": "#%%\n"
    }
   }
  },
  {
   "cell_type": "code",
   "execution_count": 64,
   "outputs": [
    {
     "data": {
      "text/plain": "0.8450704225352113"
     },
     "execution_count": 64,
     "metadata": {},
     "output_type": "execute_result"
    }
   ],
   "source": [
    "precision_score(y, y_pred_amel)"
   ],
   "metadata": {
    "collapsed": false,
    "pycharm": {
     "name": "#%%\n"
    }
   }
  },
  {
   "cell_type": "code",
   "execution_count": 65,
   "outputs": [
    {
     "data": {
      "text/plain": "0.7017543859649122"
     },
     "execution_count": 65,
     "metadata": {},
     "output_type": "execute_result"
    }
   ],
   "source": [
    "recall_score(y, y_pred_amel)"
   ],
   "metadata": {
    "collapsed": false,
    "pycharm": {
     "name": "#%%\n"
    }
   }
  },
  {
   "cell_type": "code",
   "execution_count": null,
   "outputs": [],
   "source": [],
   "metadata": {
    "collapsed": false,
    "pycharm": {
     "name": "#%%\n"
    }
   }
  }
 ],
 "metadata": {
  "kernelspec": {
   "display_name": "Python 3",
   "language": "python",
   "name": "python3"
  },
  "language_info": {
   "codemirror_mode": {
    "name": "ipython",
    "version": 2
   },
   "file_extension": ".py",
   "mimetype": "text/x-python",
   "name": "python",
   "nbconvert_exporter": "python",
   "pygments_lexer": "ipython2",
   "version": "2.7.6"
  }
 },
 "nbformat": 4,
 "nbformat_minor": 0
}